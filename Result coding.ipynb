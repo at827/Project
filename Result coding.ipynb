{
 "cells": [
  {
   "cell_type": "code",
   "execution_count": 1,
   "id": "5d6a5a69-792d-4239-84b1-95c7ece7a502",
   "metadata": {},
   "outputs": [
    {
     "name": "stdin",
     "output_type": "stream",
     "text": [
      "what is your marks in programming: 50\n"
     ]
    },
    {
     "name": "stdout",
     "output_type": "stream",
     "text": [
      "you got: C+\n"
     ]
    }
   ],
   "source": [
    "marks=int(input(\"what is your marks in programming:\"))\n",
    "def show_grade(grade):\n",
    "    print(f\"you got: {grade}\")\n",
    "if marks >=80:\n",
    "    show_grade (\"A+\")\n",
    "elif marks <80 and marks >=75:\n",
    "    show_grade (\"A\")\n",
    "elif marks <75 and marks >=70:\n",
    "    show_grade (\"A-\")\n",
    "elif marks <70 and marks >=65:\n",
    "    show_grade (\"B+\")\n",
    "elif marks <65 and marks >=60:\n",
    "    show_grade (\"B\")\n",
    "elif marks <60 and marks >=55:\n",
    "    show_grade (\"B-\")\n",
    "elif marks <55 and marks >=50:\n",
    "    show_grade (\"C+\")\n",
    "elif marks <50 and marks >=45:\n",
    "    show_grade (\"C\")\n",
    "elif marks <45 and marks >=40:\n",
    "    show_grade (\"D\")\n",
    "else:\n",
    "    show_grade (\"F\")"
   ]
  },
  {
   "cell_type": "code",
   "execution_count": null,
   "id": "566f5eb9-2c51-4036-b15c-e1e3282c3699",
   "metadata": {},
   "outputs": [],
   "source": []
  }
 ],
 "metadata": {
  "kernelspec": {
   "display_name": "Python 3 (ipykernel)",
   "language": "python",
   "name": "python3"
  },
  "language_info": {
   "codemirror_mode": {
    "name": "ipython",
    "version": 3
   },
   "file_extension": ".py",
   "mimetype": "text/x-python",
   "name": "python",
   "nbconvert_exporter": "python",
   "pygments_lexer": "ipython3",
   "version": "3.12.7"
  }
 },
 "nbformat": 4,
 "nbformat_minor": 5
}
